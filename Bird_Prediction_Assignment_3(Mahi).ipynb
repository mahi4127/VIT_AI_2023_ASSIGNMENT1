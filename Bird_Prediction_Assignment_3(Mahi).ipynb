{
 "cells": [
  {
   "cell_type": "code",
   "execution_count": 1,
   "id": "20bc1b8d",
   "metadata": {},
   "outputs": [],
   "source": [
    "#Data Augumentation\n",
    "from tensorflow.keras.preprocessing.image import ImageDataGenerator"
   ]
  },
  {
   "cell_type": "code",
   "execution_count": 2,
   "id": "8ed9a766",
   "metadata": {},
   "outputs": [],
   "source": [
    "train_gen = ImageDataGenerator(rescale=(1./255),horizontal_flip= True, shear_range=0.2)\n",
    "test_gen = ImageDataGenerator(rescale=(1./255))"
   ]
  },
  {
   "cell_type": "code",
   "execution_count": 3,
   "id": "0ccdd93d",
   "metadata": {},
   "outputs": [
    {
     "name": "stdout",
     "output_type": "stream",
     "text": [
      "Found 150 images belonging to 16 classes.\n",
      "Found 157 images belonging to 16 classes.\n"
     ]
    }
   ],
   "source": [
    "train = train_gen.flow_from_directory('C:/Users/HP/Downloads/archive/train_data/train_data',\n",
    "                                     target_size=(120,120),\n",
    "                                     class_mode='categorical',\n",
    "                                     batch_size= 8)\n",
    "test = test_gen.flow_from_directory('C:/Users/HP/Downloads/archive/test_data/test_data',\n",
    "                                     target_size=(120,120),\n",
    "                                     class_mode='categorical',\n",
    "                                     batch_size= 8)"
   ]
  },
  {
   "cell_type": "code",
   "execution_count": 4,
   "id": "06dc7316",
   "metadata": {},
   "outputs": [],
   "source": [
    "from tensorflow.keras.layers import Convolution2D, MaxPooling2D, Flatten , Dense\n",
    "from tensorflow.keras.models import Sequential "
   ]
  },
  {
   "cell_type": "code",
   "execution_count": 5,
   "id": "2103d72d",
   "metadata": {},
   "outputs": [],
   "source": [
    "model = Sequential()\n",
    "model.add(Convolution2D(32,(3,3),activation ='relu',input_shape=(120,120,3)))\n",
    "model.add(MaxPooling2D(pool_size=(2,2)))\n",
    "model.add(Flatten())\n",
    "model.add(Dense(128,activation='relu'))\n",
    "model.add(Dense(1,activation='sigmoid'))"
   ]
  },
  {
   "cell_type": "code",
   "execution_count": 6,
   "id": "e125c83c",
   "metadata": {},
   "outputs": [],
   "source": [
    "model.compile(optimizer='adam',loss='binary_crossentropy',metrics=['accuracy'])"
   ]
  },
  {
   "cell_type": "code",
   "execution_count": 7,
   "id": "ccd526da",
   "metadata": {},
   "outputs": [
    {
     "name": "stdout",
     "output_type": "stream",
     "text": [
      "Epoch 1/10\n",
      "19/19 [==============================] - 35s 2s/step - loss: 0.9282 - accuracy: 0.8850 - val_loss: 0.2514 - val_accuracy: 0.9375\n",
      "Epoch 2/10\n",
      "19/19 [==============================] - 34s 2s/step - loss: 0.2550 - accuracy: 0.9375 - val_loss: 0.2514 - val_accuracy: 0.9375\n",
      "Epoch 3/10\n",
      "19/19 [==============================] - 34s 2s/step - loss: 0.2500 - accuracy: 0.9375 - val_loss: 0.2464 - val_accuracy: 0.9375\n",
      "Epoch 4/10\n",
      "19/19 [==============================] - 34s 2s/step - loss: 0.2463 - accuracy: 0.9375 - val_loss: 0.2449 - val_accuracy: 0.9375\n",
      "Epoch 5/10\n",
      "19/19 [==============================] - 34s 2s/step - loss: 0.2430 - accuracy: 0.9375 - val_loss: 0.2435 - val_accuracy: 0.9375\n",
      "Epoch 6/10\n",
      "19/19 [==============================] - 33s 2s/step - loss: 0.2407 - accuracy: 0.9375 - val_loss: 0.2462 - val_accuracy: 0.9375\n",
      "Epoch 7/10\n",
      "19/19 [==============================] - 34s 2s/step - loss: 0.2417 - accuracy: 0.9375 - val_loss: 0.2416 - val_accuracy: 0.9375\n",
      "Epoch 8/10\n",
      "19/19 [==============================] - 34s 2s/step - loss: 0.2411 - accuracy: 0.9375 - val_loss: 0.2421 - val_accuracy: 0.9375\n",
      "Epoch 9/10\n",
      "19/19 [==============================] - 33s 2s/step - loss: 0.2387 - accuracy: 0.9375 - val_loss: 0.2431 - val_accuracy: 0.9375\n",
      "Epoch 10/10\n",
      "19/19 [==============================] - 33s 2s/step - loss: 0.2393 - accuracy: 0.9375 - val_loss: 0.2418 - val_accuracy: 0.9375\n"
     ]
    },
    {
     "data": {
      "text/plain": [
       "<keras.callbacks.History at 0x24b222c19d0>"
      ]
     },
     "execution_count": 7,
     "metadata": {},
     "output_type": "execute_result"
    }
   ],
   "source": [
    "model.fit(train,batch_size= 8,validation_data=test,epochs=10)"
   ]
  },
  {
   "cell_type": "code",
   "execution_count": 8,
   "id": "c3071100",
   "metadata": {},
   "outputs": [],
   "source": [
    "model.save('birdPrediction.h5')\n",
    "     "
   ]
  },
  {
   "cell_type": "code",
   "execution_count": 9,
   "id": "0f74de83",
   "metadata": {},
   "outputs": [],
   "source": [
    "#Testing\n",
    "import numpy as np\n",
    "from tensorflow.keras.preprocessing import image"
   ]
  },
  {
   "cell_type": "code",
   "execution_count": 10,
   "id": "bc3e04c1",
   "metadata": {},
   "outputs": [
    {
     "name": "stdout",
     "output_type": "stream",
     "text": [
      "1/1 [==============================] - 0s 79ms/step\n",
      "0\n",
      "wcrsrt\n"
     ]
    }
   ],
   "source": [
    "# Testing \n",
    "img1 = image.load_img('C:/Users/HP/Downloads/archive/train_data/train_data/wcrsrt/100_4458.JPG',target_size=(120,120))\n",
    "img1 = image.img_to_array(img1)\n",
    "img1 = np.expand_dims(img1,axis=0)\n",
    "pred = np.argmax(model.predict(img1))\n",
    "print(pred)\n",
    "output = ['wcrsrt','rebimg','jglowl','bonegl']\n",
    "print(output[pred])"
   ]
  },
  {
   "cell_type": "code",
   "execution_count": 11,
   "id": "bcbf1b11",
   "metadata": {},
   "outputs": [],
   "source": [
    "#Model Tunning using feature extraction\n",
    "model = Sequential()\n",
    "model.add(Convolution2D(64,(3,3),activation='relu',input_shape=(120, 120, 3)))\n",
    "model.add(MaxPooling2D(pool_size=(2,2)))\n",
    "model.add(Convolution2D(32,(3,3),activation='relu'))\n",
    "model.add(MaxPooling2D(pool_size=(2,2)))\n",
    "model.add(Convolution2D(24,(3,3),activation='relu'))\n",
    "model.add(MaxPooling2D(pool_size=(2,2)))\n",
    "model.add(Flatten())\n",
    "model.add(Dense(24,activation='relu'))\n",
    "model.add(Dense(12,activation='relu'))\n",
    "model.add(Dense(4,activation='relu'))\n",
    "model.add(Dense(1,activation='sigmoid'))\n"
   ]
  },
  {
   "cell_type": "code",
   "execution_count": 12,
   "id": "7e163a9b",
   "metadata": {},
   "outputs": [
    {
     "name": "stdout",
     "output_type": "stream",
     "text": [
      "Model: \"sequential_1\"\n",
      "_________________________________________________________________\n",
      " Layer (type)                Output Shape              Param #   \n",
      "=================================================================\n",
      " conv2d_1 (Conv2D)           (None, 118, 118, 64)      1792      \n",
      "                                                                 \n",
      " max_pooling2d_1 (MaxPooling  (None, 59, 59, 64)       0         \n",
      " 2D)                                                             \n",
      "                                                                 \n",
      " conv2d_2 (Conv2D)           (None, 57, 57, 32)        18464     \n",
      "                                                                 \n",
      " max_pooling2d_2 (MaxPooling  (None, 28, 28, 32)       0         \n",
      " 2D)                                                             \n",
      "                                                                 \n",
      " conv2d_3 (Conv2D)           (None, 26, 26, 24)        6936      \n",
      "                                                                 \n",
      " max_pooling2d_3 (MaxPooling  (None, 13, 13, 24)       0         \n",
      " 2D)                                                             \n",
      "                                                                 \n",
      " flatten_1 (Flatten)         (None, 4056)              0         \n",
      "                                                                 \n",
      " dense_2 (Dense)             (None, 24)                97368     \n",
      "                                                                 \n",
      " dense_3 (Dense)             (None, 12)                300       \n",
      "                                                                 \n",
      " dense_4 (Dense)             (None, 4)                 52        \n",
      "                                                                 \n",
      " dense_5 (Dense)             (None, 1)                 5         \n",
      "                                                                 \n",
      "=================================================================\n",
      "Total params: 124,917\n",
      "Trainable params: 124,917\n",
      "Non-trainable params: 0\n",
      "_________________________________________________________________\n"
     ]
    }
   ],
   "source": [
    "model.summary()"
   ]
  },
  {
   "cell_type": "code",
   "execution_count": 13,
   "id": "563311d9",
   "metadata": {},
   "outputs": [],
   "source": [
    "model.compile(optimizer='adam',loss='binary_crossentropy',metrics=['accuracy'])"
   ]
  },
  {
   "cell_type": "code",
   "execution_count": 14,
   "id": "5dd3cfcc",
   "metadata": {
    "scrolled": false
   },
   "outputs": [
    {
     "name": "stdout",
     "output_type": "stream",
     "text": [
      "Epoch 1/20\n",
      "19/19 [==============================] - 33s 2s/step - loss: 0.6918 - accuracy: 0.8908 - val_loss: 0.6849 - val_accuracy: 0.9375\n",
      "Epoch 2/20\n",
      "19/19 [==============================] - 31s 2s/step - loss: 0.6810 - accuracy: 0.9375 - val_loss: 0.6768 - val_accuracy: 0.9375\n",
      "Epoch 3/20\n",
      "19/19 [==============================] - 30s 2s/step - loss: 0.6730 - accuracy: 0.9375 - val_loss: 0.6688 - val_accuracy: 0.9375\n",
      "Epoch 4/20\n",
      "19/19 [==============================] - 30s 2s/step - loss: 0.6650 - accuracy: 0.9375 - val_loss: 0.6609 - val_accuracy: 0.9375\n",
      "Epoch 5/20\n",
      "19/19 [==============================] - 31s 2s/step - loss: 0.6572 - accuracy: 0.9375 - val_loss: 0.6531 - val_accuracy: 0.9375\n",
      "Epoch 6/20\n",
      "19/19 [==============================] - 30s 2s/step - loss: 0.6495 - accuracy: 0.9375 - val_loss: 0.6455 - val_accuracy: 0.9375\n",
      "Epoch 7/20\n",
      "19/19 [==============================] - 30s 2s/step - loss: 0.6420 - accuracy: 0.9375 - val_loss: 0.6380 - val_accuracy: 0.9375\n",
      "Epoch 8/20\n",
      "19/19 [==============================] - 30s 2s/step - loss: 0.6345 - accuracy: 0.9375 - val_loss: 0.6306 - val_accuracy: 0.9375\n",
      "Epoch 9/20\n",
      "19/19 [==============================] - 30s 2s/step - loss: 0.6272 - accuracy: 0.9375 - val_loss: 0.6234 - val_accuracy: 0.9375\n",
      "Epoch 10/20\n",
      "19/19 [==============================] - 30s 2s/step - loss: 0.6200 - accuracy: 0.9375 - val_loss: 0.6162 - val_accuracy: 0.9375\n",
      "Epoch 11/20\n",
      "19/19 [==============================] - 30s 2s/step - loss: 0.6129 - accuracy: 0.9375 - val_loss: 0.6092 - val_accuracy: 0.9375\n",
      "Epoch 12/20\n",
      "19/19 [==============================] - 30s 2s/step - loss: 0.6060 - accuracy: 0.9375 - val_loss: 0.6024 - val_accuracy: 0.9375\n",
      "Epoch 13/20\n",
      "19/19 [==============================] - 30s 2s/step - loss: 0.5991 - accuracy: 0.9375 - val_loss: 0.5956 - val_accuracy: 0.9375\n",
      "Epoch 14/20\n",
      "19/19 [==============================] - 30s 2s/step - loss: 0.5924 - accuracy: 0.9375 - val_loss: 0.5889 - val_accuracy: 0.9375\n",
      "Epoch 15/20\n",
      "19/19 [==============================] - 30s 2s/step - loss: 0.5858 - accuracy: 0.9375 - val_loss: 0.5824 - val_accuracy: 0.9375\n",
      "Epoch 16/20\n",
      "19/19 [==============================] - 30s 2s/step - loss: 0.5793 - accuracy: 0.9375 - val_loss: 0.5760 - val_accuracy: 0.9375\n",
      "Epoch 17/20\n",
      "19/19 [==============================] - 30s 2s/step - loss: 0.5730 - accuracy: 0.9375 - val_loss: 0.5696 - val_accuracy: 0.9375\n",
      "Epoch 18/20\n",
      "19/19 [==============================] - 30s 2s/step - loss: 0.5667 - accuracy: 0.9375 - val_loss: 0.5634 - val_accuracy: 0.9375\n",
      "Epoch 19/20\n",
      "19/19 [==============================] - 30s 2s/step - loss: 0.5605 - accuracy: 0.9375 - val_loss: 0.5573 - val_accuracy: 0.9375\n",
      "Epoch 20/20\n",
      "19/19 [==============================] - 31s 2s/step - loss: 0.5545 - accuracy: 0.9375 - val_loss: 0.5513 - val_accuracy: 0.9375\n"
     ]
    },
    {
     "data": {
      "text/plain": [
       "<keras.callbacks.History at 0x24b28f01a30>"
      ]
     },
     "execution_count": 14,
     "metadata": {},
     "output_type": "execute_result"
    }
   ],
   "source": [
    "model.fit(train,batch_size=8,validation_data=test,epochs=20)"
   ]
  },
  {
   "cell_type": "code",
   "execution_count": 17,
   "id": "7c9de035",
   "metadata": {},
   "outputs": [
    {
     "name": "stdout",
     "output_type": "stream",
     "text": [
      "1/1 [==============================] - 0s 16ms/step\n",
      "0\n",
      "jglowl\n"
     ]
    }
   ],
   "source": [
    "# Testing \n",
    "img1 = image.load_img('C:/Users/HP/Downloads/archive/test_data/test_data/jglowl/_D32_10584.jpg',target_size=(120,120))\n",
    "img1 = image.img_to_array(img1)\n",
    "img1 = np.expand_dims(img1,axis=0)\n",
    "pred = np.argmax(model.predict(img1))\n",
    "print(pred)\n",
    "output = ['jglowl','wcrsrt','rebimg','jglowl','bonegl']\n",
    "print(output[pred])"
   ]
  },
  {
   "cell_type": "code",
   "execution_count": null,
   "id": "bdc5a51d",
   "metadata": {},
   "outputs": [],
   "source": []
  }
 ],
 "metadata": {
  "kernelspec": {
   "display_name": "Python 3 (ipykernel)",
   "language": "python",
   "name": "python3"
  },
  "language_info": {
   "codemirror_mode": {
    "name": "ipython",
    "version": 3
   },
   "file_extension": ".py",
   "mimetype": "text/x-python",
   "name": "python",
   "nbconvert_exporter": "python",
   "pygments_lexer": "ipython3",
   "version": "3.9.9"
  }
 },
 "nbformat": 4,
 "nbformat_minor": 5
}
